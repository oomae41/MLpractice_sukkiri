{
 "cells": [
  {
   "cell_type": "code",
   "execution_count": 1,
   "metadata": {},
   "outputs": [],
   "source": [
    "import pandas as pd\n",
    "\n",
    "df = pd.read_csv(\"../sukkiri-ml-codes/datafiles/ex2.csv\")"
   ]
  },
  {
   "cell_type": "code",
   "execution_count": 2,
   "metadata": {},
   "outputs": [
    {
     "data": {
      "text/html": [
       "<div>\n",
       "<style scoped>\n",
       "    .dataframe tbody tr th:only-of-type {\n",
       "        vertical-align: middle;\n",
       "    }\n",
       "\n",
       "    .dataframe tbody tr th {\n",
       "        vertical-align: top;\n",
       "    }\n",
       "\n",
       "    .dataframe thead th {\n",
       "        text-align: right;\n",
       "    }\n",
       "</style>\n",
       "<table border=\"1\" class=\"dataframe\">\n",
       "  <thead>\n",
       "    <tr style=\"text-align: right;\">\n",
       "      <th></th>\n",
       "      <th>x0</th>\n",
       "      <th>x1</th>\n",
       "      <th>x2</th>\n",
       "      <th>x3</th>\n",
       "      <th>target</th>\n",
       "    </tr>\n",
       "  </thead>\n",
       "  <tbody>\n",
       "    <tr>\n",
       "      <th>0</th>\n",
       "      <td>-1.244674</td>\n",
       "      <td>1.452124</td>\n",
       "      <td>-1.184385</td>\n",
       "      <td>-0.839169</td>\n",
       "      <td>1</td>\n",
       "    </tr>\n",
       "    <tr>\n",
       "      <th>1</th>\n",
       "      <td>-1.662920</td>\n",
       "      <td>-0.375804</td>\n",
       "      <td>-0.956673</td>\n",
       "      <td>0.380114</td>\n",
       "      <td>0</td>\n",
       "    </tr>\n",
       "    <tr>\n",
       "      <th>2</th>\n",
       "      <td>-1.926513</td>\n",
       "      <td>NaN</td>\n",
       "      <td>-1.203904</td>\n",
       "      <td>-0.728801</td>\n",
       "      <td>1</td>\n",
       "    </tr>\n",
       "    <tr>\n",
       "      <th>3</th>\n",
       "      <td>-1.455014</td>\n",
       "      <td>-0.472972</td>\n",
       "      <td>0.500495</td>\n",
       "      <td>-0.809670</td>\n",
       "      <td>0</td>\n",
       "    </tr>\n",
       "    <tr>\n",
       "      <th>4</th>\n",
       "      <td>-1.255422</td>\n",
       "      <td>1.348182</td>\n",
       "      <td>0.827424</td>\n",
       "      <td>-0.334090</td>\n",
       "      <td>1</td>\n",
       "    </tr>\n",
       "    <tr>\n",
       "      <th>...</th>\n",
       "      <td>...</td>\n",
       "      <td>...</td>\n",
       "      <td>...</td>\n",
       "      <td>...</td>\n",
       "      <td>...</td>\n",
       "    </tr>\n",
       "    <tr>\n",
       "      <th>95</th>\n",
       "      <td>-0.988204</td>\n",
       "      <td>0.934396</td>\n",
       "      <td>0.131865</td>\n",
       "      <td>-0.158939</td>\n",
       "      <td>1</td>\n",
       "    </tr>\n",
       "    <tr>\n",
       "      <th>96</th>\n",
       "      <td>-2.057470</td>\n",
       "      <td>2.869821</td>\n",
       "      <td>-0.887651</td>\n",
       "      <td>-0.741163</td>\n",
       "      <td>1</td>\n",
       "    </tr>\n",
       "    <tr>\n",
       "      <th>97</th>\n",
       "      <td>-1.669722</td>\n",
       "      <td>2.168812</td>\n",
       "      <td>-0.018603</td>\n",
       "      <td>0.607099</td>\n",
       "      <td>1</td>\n",
       "    </tr>\n",
       "    <tr>\n",
       "      <th>98</th>\n",
       "      <td>-1.011851</td>\n",
       "      <td>0.973641</td>\n",
       "      <td>-0.474993</td>\n",
       "      <td>-0.509644</td>\n",
       "      <td>1</td>\n",
       "    </tr>\n",
       "    <tr>\n",
       "      <th>99</th>\n",
       "      <td>-1.578463</td>\n",
       "      <td>2.076695</td>\n",
       "      <td>0.200962</td>\n",
       "      <td>2.533324</td>\n",
       "      <td>1</td>\n",
       "    </tr>\n",
       "  </tbody>\n",
       "</table>\n",
       "<p>100 rows × 5 columns</p>\n",
       "</div>"
      ],
      "text/plain": [
       "          x0        x1        x2        x3  target\n",
       "0  -1.244674  1.452124 -1.184385 -0.839169       1\n",
       "1  -1.662920 -0.375804 -0.956673  0.380114       0\n",
       "2  -1.926513       NaN -1.203904 -0.728801       1\n",
       "3  -1.455014 -0.472972  0.500495 -0.809670       0\n",
       "4  -1.255422  1.348182  0.827424 -0.334090       1\n",
       "..       ...       ...       ...       ...     ...\n",
       "95 -0.988204  0.934396  0.131865 -0.158939       1\n",
       "96 -2.057470  2.869821 -0.887651 -0.741163       1\n",
       "97 -1.669722  2.168812 -0.018603  0.607099       1\n",
       "98 -1.011851  0.973641 -0.474993 -0.509644       1\n",
       "99 -1.578463  2.076695  0.200962  2.533324       1\n",
       "\n",
       "[100 rows x 5 columns]"
      ]
     },
     "execution_count": 2,
     "metadata": {},
     "output_type": "execute_result"
    }
   ],
   "source": [
    "df"
   ]
  },
  {
   "cell_type": "code",
   "execution_count": 5,
   "metadata": {},
   "outputs": [
    {
     "data": {
      "text/plain": [
       "(100, 5)"
      ]
     },
     "execution_count": 5,
     "metadata": {},
     "output_type": "execute_result"
    }
   ],
   "source": [
    "df.shape"
   ]
  },
  {
   "cell_type": "code",
   "execution_count": null,
   "metadata": {},
   "outputs": [],
   "source": []
  }
 ],
 "metadata": {
  "kernelspec": {
   "display_name": "sukkiri",
   "language": "python",
   "name": "python3"
  },
  "language_info": {
   "codemirror_mode": {
    "name": "ipython",
    "version": 3
   },
   "file_extension": ".py",
   "mimetype": "text/x-python",
   "name": "python",
   "nbconvert_exporter": "python",
   "pygments_lexer": "ipython3",
   "version": "3.10.11"
  },
  "orig_nbformat": 4
 },
 "nbformat": 4,
 "nbformat_minor": 2
}
