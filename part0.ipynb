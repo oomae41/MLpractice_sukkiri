{
 "cells": [
  {
   "cell_type": "code",
   "execution_count": 1,
   "metadata": {},
   "outputs": [
    {
     "data": {
      "text/plain": [
       "'1.24.3'"
      ]
     },
     "execution_count": 1,
     "metadata": {},
     "output_type": "execute_result"
    }
   ],
   "source": [
    "import numpy as np\n",
    "np.__version__"
   ]
  },
  {
   "cell_type": "code",
   "execution_count": 9,
   "metadata": {},
   "outputs": [
    {
     "name": "stdout",
     "output_type": "stream",
     "text": [
      "身長は1.8m\n",
      "体重は70kg\n",
      "70\n",
      "1.8\n",
      "38.888888888888886\n",
      "BMIは21.604938271604937\n"
     ]
    }
   ],
   "source": [
    "# 練習1-1\n",
    "\n",
    "_height = input(\"身長(cm)を入力\")\n",
    "weight = input(\"体重(kg)を入力\")\n",
    "\n",
    "height = int(_height) /100\n",
    "\n",
    "print(\"身長は\" + str(height) + \"m\")\n",
    "print(\"体重は\" + str(weight) + \"kg\")\n",
    "\n",
    "_bmi = int(weight) / float(height)\n",
    "bmi = float(_bmi) / float(height)\n",
    "print(weight)\n",
    "print(height)\n",
    "print(_bmi)\n",
    "print(\"BMIは\" + str(bmi))"
   ]
  },
  {
   "cell_type": "code",
   "execution_count": 20,
   "metadata": {},
   "outputs": [
    {
     "name": "stdout",
     "output_type": "stream",
     "text": [
      "['dog', 'いぬ', '111']\n",
      "要素数は3\n",
      "{'dog': '犬', 'cat': '猫', 111: '百十一'}\n",
      "要素数は3\n",
      "(1, 2, 3, '四')\n",
      "要素数は4\n",
      "{1, '犬', '二', 'cat'}\n",
      "要素数は4\n"
     ]
    }
   ],
   "source": [
    "# 練習2-1\n",
    "\n",
    "\n",
    "# リスト\n",
    "list = [\"dog\", \"いぬ\", \"111\"]\n",
    "print(list)\n",
    "print(\"要素数は\" + str(len(list)))\n",
    "\n",
    "# 辞書\n",
    "dict = {\"dog\":\"犬\", \"cat\":\"猫\", 111:\"百十一\"}\n",
    "print(dict)\n",
    "print(\"要素数は\" +  str(len(dict)))\n",
    "\n",
    "# タプル\n",
    "tuple = (1, 2, 3, \"四\")\n",
    "print(tuple)\n",
    "print(\"要素数は\" + str(len(tuple)))\n",
    "\n",
    "# 集合\n",
    "# 簡単な集合演算が実行できる\n",
    "set = {1, \"二\", \"犬\", \"cat\"}\n",
    "print(set)\n",
    "print(\"要素数は\" + str(len(set)))"
   ]
  },
  {
   "cell_type": "code",
   "execution_count": 35,
   "metadata": {},
   "outputs": [
    {
     "name": "stdout",
     "output_type": "stream",
     "text": [
      "['1', '2', '3']\n",
      "合計点は6\n"
     ]
    }
   ],
   "source": [
    "# 練習2-2\n",
    "\n",
    "japanese = input(\"国語の得点を入力せよ\")\n",
    "math = input(\"数学の得点を入力せよ\")\n",
    "english = input(\"英語の得点を入力せよ\")\n",
    "\n",
    "list = [japanese, math, english]\n",
    "\n",
    "print(list)\n",
    "sum_points = int(list[0]) + int(list[1]) + int(list[2])\n",
    "print(\"合計点は\" + str(sum_points))"
   ]
  },
  {
   "cell_type": "code",
   "execution_count": 38,
   "metadata": {},
   "outputs": [
    {
     "name": "stdout",
     "output_type": "stream",
     "text": [
      "[1, 2, 3]\n",
      "合計点は6点\n",
      "合計点は 6 点\n"
     ]
    }
   ],
   "source": [
    "# 練習2−2の正解\n",
    "\n",
    "list = []\n",
    "\n",
    "japanese = int(input(\"国語の得点を入力せよ\"))\n",
    "list.append(japanese)\n",
    "\n",
    "math = int(input(\"数学の得点を入力せよ\"))\n",
    "list.append(math)\n",
    "\n",
    "english = int(input(\"英語の得点を入力せよ\"))\n",
    "list.append(english)\n",
    "\n",
    "print(list)\n",
    "total = sum(list)\n",
    "# total = japanese + math + english\n",
    "print(\"合計点は{}点\".format(total))\n",
    "print(\"合計点は\", total, \"点\")"
   ]
  },
  {
   "cell_type": "code",
   "execution_count": 37,
   "metadata": {},
   "outputs": [],
   "source": [
    "del sum"
   ]
  },
  {
   "cell_type": "code",
   "execution_count": null,
   "metadata": {},
   "outputs": [],
   "source": []
  }
 ],
 "metadata": {
  "kernelspec": {
   "display_name": "sukkiri",
   "language": "python",
   "name": "python3"
  },
  "language_info": {
   "codemirror_mode": {
    "name": "ipython",
    "version": 3
   },
   "file_extension": ".py",
   "mimetype": "text/x-python",
   "name": "python",
   "nbconvert_exporter": "python",
   "pygments_lexer": "ipython3",
   "version": "3.10.11"
  },
  "orig_nbformat": 4
 },
 "nbformat": 4,
 "nbformat_minor": 2
}
