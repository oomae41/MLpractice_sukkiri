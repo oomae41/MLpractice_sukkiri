{
 "cells": [
  {
   "cell_type": "code",
   "execution_count": 1,
   "metadata": {},
   "outputs": [
    {
     "data": {
      "text/plain": [
       "'1.24.3'"
      ]
     },
     "execution_count": 1,
     "metadata": {},
     "output_type": "execute_result"
    }
   ],
   "source": [
    "import numpy as np\n",
    "np.__version__"
   ]
  },
  {
   "cell_type": "code",
   "execution_count": 9,
   "metadata": {},
   "outputs": [
    {
     "name": "stdout",
     "output_type": "stream",
     "text": [
      "身長は1.8m\n",
      "体重は70kg\n",
      "70\n",
      "1.8\n",
      "38.888888888888886\n",
      "BMIは21.604938271604937\n"
     ]
    }
   ],
   "source": [
    "# 練習1-1\n",
    "\n",
    "_height = input(\"身長(cm)を入力\")\n",
    "weight = input(\"体重(kg)を入力\")\n",
    "\n",
    "height = int(_height) /100\n",
    "\n",
    "print(\"身長は\" + str(height) + \"m\")\n",
    "print(\"体重は\" + str(weight) + \"kg\")\n",
    "\n",
    "_bmi = int(weight) / float(height)\n",
    "bmi = float(_bmi) / float(height)\n",
    "print(weight)\n",
    "print(height)\n",
    "print(_bmi)\n",
    "print(\"BMIは\" + str(bmi))"
   ]
  },
  {
   "cell_type": "code",
   "execution_count": 20,
   "metadata": {},
   "outputs": [
    {
     "name": "stdout",
     "output_type": "stream",
     "text": [
      "['dog', 'いぬ', '111']\n",
      "要素数は3\n",
      "{'dog': '犬', 'cat': '猫', 111: '百十一'}\n",
      "要素数は3\n",
      "(1, 2, 3, '四')\n",
      "要素数は4\n",
      "{1, '犬', '二', 'cat'}\n",
      "要素数は4\n"
     ]
    }
   ],
   "source": [
    "# 練習2-1\n",
    "\n",
    "\n",
    "# リスト\n",
    "list = [\"dog\", \"いぬ\", \"111\"]\n",
    "print(list)\n",
    "print(\"要素数は\" + str(len(list)))\n",
    "\n",
    "# 辞書\n",
    "dict = {\"dog\":\"犬\", \"cat\":\"猫\", 111:\"百十一\"}\n",
    "print(dict)\n",
    "print(\"要素数は\" +  str(len(dict)))\n",
    "\n",
    "# タプル\n",
    "tuple = (1, 2, 3, \"四\")\n",
    "print(tuple)\n",
    "print(\"要素数は\" + str(len(tuple)))\n",
    "\n",
    "# 集合\n",
    "# 簡単な集合演算が実行できる\n",
    "set = {1, \"二\", \"犬\", \"cat\"}\n",
    "print(set)\n",
    "print(\"要素数は\" + str(len(set)))"
   ]
  },
  {
   "cell_type": "code",
   "execution_count": 35,
   "metadata": {},
   "outputs": [
    {
     "name": "stdout",
     "output_type": "stream",
     "text": [
      "['1', '2', '3']\n",
      "合計点は6\n"
     ]
    }
   ],
   "source": [
    "# 練習2-2\n",
    "\n",
    "japanese = input(\"国語の得点を入力せよ\")\n",
    "math = input(\"数学の得点を入力せよ\")\n",
    "english = input(\"英語の得点を入力せよ\")\n",
    "\n",
    "list = [japanese, math, english]\n",
    "\n",
    "print(list)\n",
    "sum_points = int(list[0]) + int(list[1]) + int(list[2])\n",
    "print(\"合計点は\" + str(sum_points))"
   ]
  },
  {
   "cell_type": "code",
   "execution_count": 38,
   "metadata": {},
   "outputs": [
    {
     "name": "stdout",
     "output_type": "stream",
     "text": [
      "[1, 2, 3]\n",
      "合計点は6点\n",
      "合計点は 6 点\n"
     ]
    }
   ],
   "source": [
    "# 練習2−2の正解\n",
    "\n",
    "list = []\n",
    "\n",
    "japanese = int(input(\"国語の得点を入力せよ\"))\n",
    "list.append(japanese)\n",
    "\n",
    "math = int(input(\"数学の得点を入力せよ\"))\n",
    "list.append(math)\n",
    "\n",
    "english = int(input(\"英語の得点を入力せよ\"))\n",
    "list.append(english)\n",
    "\n",
    "print(list)\n",
    "total = sum(list)\n",
    "# total = japanese + math + english\n",
    "print(\"合計点は{}点\".format(total))\n",
    "print(\"合計点は\", total, \"点\")"
   ]
  },
  {
   "cell_type": "code",
   "execution_count": 37,
   "metadata": {},
   "outputs": [],
   "source": [
    "del sum"
   ]
  },
  {
   "cell_type": "code",
   "execution_count": 41,
   "metadata": {},
   "outputs": [
    {
     "name": "stdout",
     "output_type": "stream",
     "text": [
      "1 は奇数です\n"
     ]
    }
   ],
   "source": [
    "# 練習3-1-1\n",
    "\n",
    "num = int(input(\"整数を入力してください\"))\n",
    "\n",
    "if num%2 == 0:\n",
    "    print(num, \"は偶数です\")\n",
    "else:\n",
    "    print(num, \"は奇数です\")"
   ]
  },
  {
   "cell_type": "code",
   "execution_count": 46,
   "metadata": {},
   "outputs": [
    {
     "name": "stdout",
     "output_type": "stream",
     "text": [
      "どうしました？\n"
     ]
    }
   ],
   "source": [
    "# 練習3-1-2\n",
    "\n",
    "message = input(\"文字列を入力してください\")\n",
    "\n",
    "if message == \"こんにちは\":\n",
    "    print(\"ようこそ！\")\n",
    "elif message == \"景気は？\":\n",
    "    print(\"ぼちぼちです\")\n",
    "elif message == \"さようなら\":\n",
    "    print(\"お元気で！\")\n",
    "else:\n",
    "    print(\"どうしました？\")"
   ]
  },
  {
   "cell_type": "code",
   "execution_count": 48,
   "metadata": {},
   "outputs": [
    {
     "name": "stdout",
     "output_type": "stream",
     "text": [
      "10 、9 、8 、7 、6 、5 、4 、3 、2 、1 、Lift off!\n"
     ]
    }
   ],
   "source": [
    "# 練習4-1\n",
    "\n",
    "for i in range(10):\n",
    "    print(10-i, \"、\", end = \"\")\n",
    "print(\"Lift off!\")"
   ]
  },
  {
   "cell_type": "code",
   "execution_count": 49,
   "metadata": {},
   "outputs": [
    {
     "name": "stdout",
     "output_type": "stream",
     "text": [
      "[71, 67, 73, 61, 79, 59, 83, 87, 72, 79]\n",
      "[76.80000000000001, 73.6, 78.4, 68.80000000000001, 83.2, 67.2, 86.4, 89.60000000000001, 77.6, 83.2]\n",
      "78.48\n"
     ]
    }
   ],
   "source": [
    "# 練習4-2\n",
    "\n",
    "_scores = [71, 67, 73, 61, 79, 59, 83, 87, 72, 79]\n",
    "scores = []\n",
    "\n",
    "for i in range(10):\n",
    "    scores.append(_scores[i])\n",
    "print(scores)\n",
    "\n",
    "final_scores = []\n",
    "\n",
    "for i in range(10):\n",
    "    _final = 0.8 * scores[i] + 20\n",
    "    final_scores.append(_final)\n",
    "print(final_scores)\n",
    "\n",
    "ave_score = sum(final_scores)/10\n",
    "print(ave_score)\n"
   ]
  },
  {
   "cell_type": "code",
   "execution_count": 53,
   "metadata": {},
   "outputs": [
    {
     "name": "stdout",
     "output_type": "stream",
     "text": [
      "True\n"
     ]
    }
   ],
   "source": [
    "# 練習5-1\n",
    "\n",
    "year = int(input())\n",
    "\n",
    "if year%4 == 0:\n",
    "    if year%100 == 0:\n",
    "        if year%400 == 0:\n",
    "            print(\"True\")\n",
    "        else:            \n",
    "            print(\"False\")\n",
    "    else:\n",
    "        print(\"True\")\n",
    "else:\n",
    "    print(\"False\")\n",
    "\n",
    "\n",
    "# 条件の強いものを外に出すようにすればifをネストしなくて済む"
   ]
  },
  {
   "cell_type": "code",
   "execution_count": 54,
   "metadata": {},
   "outputs": [],
   "source": [
    "# 練習5-1の正解\n",
    "\n",
    "def leap(year):\n",
    "    result = None\n",
    "    if year%400 == 0:\n",
    "        result = True\n",
    "    elif year%100 == 0:\n",
    "        result = False\n",
    "    elif year%4 == 0:\n",
    "        result = True\n",
    "    else:\n",
    "        result = False\n",
    "    \n",
    "    return result"
   ]
  },
  {
   "cell_type": "code",
   "execution_count": 56,
   "metadata": {},
   "outputs": [
    {
     "data": {
      "text/plain": [
       "True"
      ]
     },
     "execution_count": 56,
     "metadata": {},
     "output_type": "execute_result"
    }
   ],
   "source": [
    "leap(3)\n",
    "leap(400)"
   ]
  },
  {
   "cell_type": "code",
   "execution_count": null,
   "metadata": {},
   "outputs": [],
   "source": []
  }
 ],
 "metadata": {
  "kernelspec": {
   "display_name": "sukkiri",
   "language": "python",
   "name": "python3"
  },
  "language_info": {
   "codemirror_mode": {
    "name": "ipython",
    "version": 3
   },
   "file_extension": ".py",
   "mimetype": "text/x-python",
   "name": "python",
   "nbconvert_exporter": "python",
   "pygments_lexer": "ipython3",
   "version": "3.10.11"
  },
  "orig_nbformat": 4
 },
 "nbformat": 4,
 "nbformat_minor": 2
}
